{
 "cells": [
  {
   "cell_type": "markdown",
   "id": "9dcc297b",
   "metadata": {},
   "source": [
    "# Eat Your Books Project\n",
    "\n",
    "## Data Processing"
   ]
  },
  {
   "cell_type": "code",
   "execution_count": 1,
   "id": "3e05db54",
   "metadata": {},
   "outputs": [],
   "source": [
    "import pandas as pd"
   ]
  },
  {
   "cell_type": "code",
   "execution_count": 2,
   "id": "e7452011",
   "metadata": {},
   "outputs": [],
   "source": [
    "data_folder_path = \"data/2023-02-05\""
   ]
  },
  {
   "cell_type": "markdown",
   "id": "2433b299",
   "metadata": {},
   "source": [
    "### Examine Bookmarks"
   ]
  },
  {
   "cell_type": "code",
   "execution_count": 3,
   "id": "7a724b34",
   "metadata": {},
   "outputs": [
    {
     "name": "stdout",
     "output_type": "stream",
     "text": [
      "----------------------------------------------------------------------\n",
      "Recipe bookmark\n",
      "(3188, 2)\n",
      "   recipe_id     bookmark_name\n",
      "0    1855630  I've cooked this\n",
      "1    2601496  I've cooked this\n",
      "2    2601194  I've cooked this\n",
      "3    2602365  I've cooked this\n",
      "4    2866117  I've cooked this\n",
      "[\"I've cooked this\" 'Favorite Recipes' '2017-01' '2017-02' '2017-03'\n",
      " '2017-08' '2017-09' '2017-10' '2017-11' '2017-12' '2018-01' '2018-02'\n",
      " '2018-03' '2018-04' '2018-05' '2018-06' '2018-07' '2018-08' '2018-09'\n",
      " '2018-10' '2018-11' '2018-12' '2019-01' '2019-02' '2019-03' '2019-04'\n",
      " '2019-05' '2019-06' '2019-07' '2019-08' '2019-09' '2019-10' '2019-11'\n",
      " '2019-12' '2020-01' '2020-02' '2020-03' '2020-04' '2020-05' '2020-06'\n",
      " '2020-07' '2020-08' '2020-09' '2020-10' '2020-11' '2020-12' '2021-01'\n",
      " '2021-02' '2021-03' '2021-04' '2021-05' '2021-06' '2021-07' '2021-08'\n",
      " '2021-09' '2021-10' '2021-11' '2021-12' '2022-01' '2022-02' '2022-03'\n",
      " '2022-04' '2022-05' '2022-06' '2022-07' '2022-08' '2022-09' '2022-10'\n",
      " '2022-11' '2022-12' '2023-01' '2023-02' 'Ottolenghi Guardian Book'\n",
      " 'pre-2017']\n",
      "----------------------------------------------------------------------\n"
     ]
    }
   ],
   "source": [
    "recipe_bookmark = pd.read_csv(data_folder_path + '/recipe_bookmark.csv')\n",
    "print(\"----------------------------------------------------------------------\")\n",
    "print(\"Recipe bookmark\")\n",
    "print(recipe_bookmark.shape)\n",
    "print(recipe_bookmark.head())\n",
    "print(recipe_bookmark.bookmark_name.unique())\n",
    "print(\"----------------------------------------------------------------------\")\n"
   ]
  },
  {
   "cell_type": "markdown",
   "id": "5e4ddfe5",
   "metadata": {},
   "source": [
    "### Convert Date Column to Date Types"
   ]
  },
  {
   "cell_type": "code",
   "execution_count": 4,
   "id": "b9bc7b2d",
   "metadata": {},
   "outputs": [
    {
     "name": "stdout",
     "output_type": "stream",
     "text": [
      "----------------------------------------------------------------------\n",
      "Recipe Dates\n",
      "      recipe_id       date\n",
      "1346    1714414 2017-01-01\n",
      "1347    2159890 2017-01-01\n",
      "1348     909867 2017-01-01\n",
      "1349     769307 2017-01-01\n",
      "1350    1714997 2017-01-01\n",
      "(1637, 2)\n",
      "----------------------------------------------------------------------\n"
     ]
    },
    {
     "name": "stderr",
     "output_type": "stream",
     "text": [
      "C:\\Users\\katya\\anaconda3\\lib\\site-packages\\pandas\\core\\generic.py:6619: SettingWithCopyWarning: \n",
      "A value is trying to be set on a copy of a slice from a DataFrame\n",
      "\n",
      "See the caveats in the documentation: https://pandas.pydata.org/pandas-docs/stable/user_guide/indexing.html#returning-a-view-versus-a-copy\n",
      "  return self._update_inplace(result)\n",
      "C:\\Users\\katya\\AppData\\Local\\Temp\\ipykernel_21984\\3728956361.py:8: SettingWithCopyWarning: \n",
      "A value is trying to be set on a copy of a slice from a DataFrame.\n",
      "Try using .loc[row_indexer,col_indexer] = value instead\n",
      "\n",
      "See the caveats in the documentation: https://pandas.pydata.org/pandas-docs/stable/user_guide/indexing.html#returning-a-view-versus-a-copy\n",
      "  recipe_dates['bookmark_name'] = pd.to_datetime(recipe_dates[\"bookmark_name\"])\n",
      "C:\\Users\\katya\\anaconda3\\lib\\site-packages\\pandas\\core\\frame.py:5039: SettingWithCopyWarning: \n",
      "A value is trying to be set on a copy of a slice from a DataFrame\n",
      "\n",
      "See the caveats in the documentation: https://pandas.pydata.org/pandas-docs/stable/user_guide/indexing.html#returning-a-view-versus-a-copy\n",
      "  return super().rename(\n"
     ]
    }
   ],
   "source": [
    "no_dates = [\"I've cooked this\"\n",
    "            , 'Favorite Recipes' \n",
    "            , 'Ottolenghi Guardian Book'\n",
    "            ]\n",
    "\n",
    "recipe_dates = recipe_bookmark.loc[~recipe_bookmark[\"bookmark_name\"].isin(no_dates)]\n",
    "recipe_dates['bookmark_name'].replace({'pre-2017': '2016-01'},inplace=True)\n",
    "recipe_dates['bookmark_name'] = pd.to_datetime(recipe_dates[\"bookmark_name\"])\n",
    "recipe_dates.rename(columns={\"bookmark_name\": \"date\"},inplace=True)\n",
    "print(\"----------------------------------------------------------------------\")\n",
    "print(\"Recipe Dates\")\n",
    "print(recipe_dates.head())\n",
    "print(recipe_dates.shape)\n",
    "print(\"----------------------------------------------------------------------\")"
   ]
  },
  {
   "cell_type": "markdown",
   "id": "c4a4ba4a",
   "metadata": {},
   "source": [
    "### How Many Recipes Cooked"
   ]
  },
  {
   "cell_type": "code",
   "execution_count": 5,
   "id": "d534d3ed",
   "metadata": {},
   "outputs": [
    {
     "name": "stdout",
     "output_type": "stream",
     "text": [
      "----------------------------------------------------------------------\n",
      "Recipe Cooked\n",
      "   recipe_id     bookmark_name\n",
      "0    1855630  I've cooked this\n",
      "1    2601496  I've cooked this\n",
      "2    2601194  I've cooked this\n",
      "3    2602365  I've cooked this\n",
      "4    2866117  I've cooked this\n",
      "(1346, 2)\n",
      "----------------------------------------------------------------------\n"
     ]
    }
   ],
   "source": [
    "## first get the recipes that have a bookmark either \"I've cooked this\" or \"Favourite Recipes\"\n",
    "\n",
    "recipe_cooked = recipe_bookmark.loc[recipe_bookmark['bookmark_name'].isin([\"I've cooked this\", \"Favorite Recipes\"])]\n",
    "print(\"----------------------------------------------------------------------\")\n",
    "print(\"Recipe Cooked\")\n",
    "print(recipe_cooked.head())\n",
    "print(recipe_cooked.shape)\n",
    "print(\"----------------------------------------------------------------------\")"
   ]
  },
  {
   "cell_type": "code",
   "execution_count": 6,
   "id": "9b432854",
   "metadata": {},
   "outputs": [
    {
     "name": "stdout",
     "output_type": "stream",
     "text": [
      "----------------------------------------------------------------------\n",
      "Recipe Dates Cooked\n",
      "   recipe_id       date     bookmark_name\n",
      "0    1714414 2017-01-01  I've cooked this\n",
      "1    2159890 2017-01-01  I've cooked this\n",
      "2     909867 2017-01-01  I've cooked this\n",
      "3     769307 2017-01-01  I've cooked this\n",
      "4    1714997 2017-01-01  I've cooked this\n",
      "(1851, 3)\n",
      "----------------------------------------------------------------------\n"
     ]
    }
   ],
   "source": [
    "# then merge those from above with those with a data, all with a date means they've been cooked\n",
    "\n",
    "recipe_dates_cooked = recipe_dates.merge(recipe_cooked, on='recipe_id', how='outer')\n",
    "\n",
    "print(\"----------------------------------------------------------------------\")\n",
    "print(\"Recipe Dates Cooked\")\n",
    "print(recipe_dates_cooked.head())\n",
    "print(recipe_dates_cooked.shape)\n",
    "print(\"----------------------------------------------------------------------\")"
   ]
  },
  {
   "cell_type": "code",
   "execution_count": 7,
   "id": "65bd5021",
   "metadata": {},
   "outputs": [
    {
     "name": "stdout",
     "output_type": "stream",
     "text": [
      "----------------------------------------------------------------------\n",
      "Recipe Dates Cooked Nulls\n",
      "      recipe_id       date     bookmark_name\n",
      "1746    2865862 2023-01-01               NaN\n",
      "1801    2023128        NaT  I've cooked this\n",
      "1802    1855782        NaT  I've cooked this\n",
      "1803    1715016        NaT  I've cooked this\n",
      "1804    2175183        NaT  I've cooked this\n",
      "(51, 3)\n",
      "----------------------------------------------------------------------\n"
     ]
    }
   ],
   "source": [
    "# examine empty values\n",
    "nulls = recipe_dates_cooked[recipe_dates_cooked.isna().any(axis=1)]\n",
    "print(\"----------------------------------------------------------------------\")\n",
    "print(\"Recipe Dates Cooked Nulls\")\n",
    "print(nulls.head())\n",
    "print(nulls.shape)\n",
    "print(\"----------------------------------------------------------------------\")\n"
   ]
  },
  {
   "cell_type": "code",
   "execution_count": 8,
   "id": "a5464a69",
   "metadata": {},
   "outputs": [],
   "source": [
    "nulls.to_csv(data_folder_path + '/nulls.csv',index=False)"
   ]
  },
  {
   "cell_type": "code",
   "execution_count": 9,
   "id": "6bf3e70f",
   "metadata": {},
   "outputs": [
    {
     "name": "stdout",
     "output_type": "stream",
     "text": [
      "----------------------------------------------------------------------\n",
      "Number of recipes cooked 1851\n",
      "----------------------------------------------------------------------\n",
      "----------------------------------------------------------------------\n",
      "Number of total  13834\n",
      "----------------------------------------------------------------------\n"
     ]
    }
   ],
   "source": [
    "recipe_dates_cooked.to_csv(data_folder_path + '/recipe_dates_cooked.csv',index=False)\n",
    "\n",
    "recipes_cooked = recipe_dates_cooked.recipe_id.values.tolist()\n",
    "print(\"----------------------------------------------------------------------\")\n",
    "print(\"Number of recipes cooked\", len(recipes_cooked))\n",
    "print(\"----------------------------------------------------------------------\")\n",
    "\n",
    "recipes = pd.read_csv(data_folder_path + '/recipe.csv')\n",
    "recipes_total = recipes.id.values.tolist()\n",
    "print(\"----------------------------------------------------------------------\")\n",
    "print(\"Number of total \", len(recipes_total))\n",
    "print(\"----------------------------------------------------------------------\")"
   ]
  },
  {
   "cell_type": "code",
   "execution_count": 10,
   "id": "15416e93",
   "metadata": {},
   "outputs": [
    {
     "name": "stdout",
     "output_type": "stream",
     "text": [
      "----------------------------------------------------------------------\n",
      "Recipes in cooked not in total 0\n",
      "[]\n",
      "----------------------------------------------------------------------\n"
     ]
    }
   ],
   "source": [
    "unfound_count = 0\n",
    "unfounds = list()\n",
    "\n",
    "for recipe in recipes_cooked:\n",
    "    if recipe not in recipes_total:\n",
    "        unfound_count += 1\n",
    "        unfounds.append(recipe)\n",
    "print(\"----------------------------------------------------------------------\")\n",
    "print(\"Recipes in cooked not in total\", unfound_count)\n",
    "print(unfounds)\n",
    "print(\"----------------------------------------------------------------------\")\n"
   ]
  },
  {
   "cell_type": "code",
   "execution_count": 11,
   "id": "99944dfc",
   "metadata": {},
   "outputs": [
    {
     "name": "stderr",
     "output_type": "stream",
     "text": [
      "[NbConvertApp] Converting notebook data_processing.ipynb to python\n",
      "[NbConvertApp] Writing 3752 bytes to data_processing.py\n"
     ]
    }
   ],
   "source": [
    "!jupyter nbconvert --to python data_processing.ipynb "
   ]
  },
  {
   "cell_type": "code",
   "execution_count": null,
   "id": "32e5a497",
   "metadata": {},
   "outputs": [],
   "source": []
  }
 ],
 "metadata": {
  "kernelspec": {
   "display_name": "Python 3 (ipykernel)",
   "language": "python",
   "name": "python3"
  },
  "language_info": {
   "codemirror_mode": {
    "name": "ipython",
    "version": 3
   },
   "file_extension": ".py",
   "mimetype": "text/x-python",
   "name": "python",
   "nbconvert_exporter": "python",
   "pygments_lexer": "ipython3",
   "version": "3.9.7"
  }
 },
 "nbformat": 4,
 "nbformat_minor": 5
}
